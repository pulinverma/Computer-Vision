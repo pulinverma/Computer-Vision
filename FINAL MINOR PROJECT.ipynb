{
 "cells": [
  {
   "cell_type": "code",
   "execution_count": 1,
   "metadata": {},
   "outputs": [],
   "source": [
    "from matplotlib import pyplot as plt\n",
    "import numpy as np\n",
    "import math\n",
    "import os\n",
    "import cv2\n",
    "import pandas as pd\n",
    "from skimage.color import rgb2gray\n",
    "from skimage import feature\n",
    "from sklearn.feature_selection import SelectKBest\n",
    "from sklearn.feature_selection import f_classif\n",
    "from sklearn.svm import SVC\n",
    "from sklearn.metrics import confusion_matrix,classification_report,accuracy_score"
   ]
  },
  {
   "cell_type": "code",
   "execution_count": 2,
   "metadata": {},
   "outputs": [
    {
     "name": "stdout",
     "output_type": "stream",
     "text": [
      "list1 : 1341\n",
      "list2 : 3875\n",
      "list3 : 234\n",
      "list4 : 390\n"
     ]
    }
   ],
   "source": [
    "list1=os.listdir('C:/chest_x-ray/train_normal')\n",
    "list2=os.listdir('C:/chest_x-ray/train_pneumonia') \n",
    "list3=os.listdir('C:/chest_x-ray/test_normal')\n",
    "list4=os.listdir('C:/chest_x-ray/test_pneumonia') \n",
    "print('list1 :',len(list1))\n",
    "print('list2 :',len(list2))\n",
    "print('list3 :',len(list3))\n",
    "print('list4 :',len(list4))"
   ]
  },
  {
   "cell_type": "code",
   "execution_count": 3,
   "metadata": {},
   "outputs": [
    {
     "name": "stdout",
     "output_type": "stream",
     "text": [
      "first class train shape : (1341, 52)\n",
      "second class train shape : (3875, 52)\n",
      "first class test shape : (234, 52)\n",
      "second class test shape : (390, 52)\n"
     ]
    }
   ],
   "source": [
    "feat1=np.zeros((1,52)) \n",
    "for i in range(len(list1)):\n",
    "    img_old=plt.imread('C:/chest_x-ray/train_normal/'+list1[i])\n",
    "    img_gray=rgb2gray(img_old)\n",
    "    img_gray_resized=cv2.resize(img_gray,(300,180),interpolation=cv2.INTER_AREA)\n",
    "    lbp=feature.local_binary_pattern(img_gray_resized,method=\"uniform\",P=8,R=1)\n",
    "    hist,_=np.histogram(lbp.ravel(),bins=np.arange(0,53),range=(0,52))\n",
    "    feat1=np.vstack((feat1,hist))\n",
    "feat1=feat1[1:,:]\n",
    "print('first class train shape :',feat1.shape)\n",
    "\n",
    "feat2=np.zeros((1,52)) \n",
    "for i in range(len(list2)):\n",
    "    img_old=plt.imread('C:/chest_x-ray/train_pneumonia/'+list2[i])\n",
    "    img_gray=rgb2gray(img_old)\n",
    "    img_gray_resized=cv2.resize(img_gray,(300,180),interpolation=cv2.INTER_AREA)\n",
    "    lbp=feature.local_binary_pattern(img_gray_resized,method=\"uniform\",P=8,R=1)\n",
    "    numPoints=50\n",
    "    hist,_=np.histogram(lbp.ravel(),bins=np.arange(0,numPoints+3),range=(0,numPoints+2))\n",
    "    feat2=np.vstack((feat2,hist))\n",
    "feat2=feat2[1:,:]\n",
    "print('second class train shape :',feat2.shape)\n",
    "\n",
    "feat3=np.zeros((1,52)) \n",
    "for i in range(len(list3)):\n",
    "    img_old=plt.imread('C:/chest_x-ray/test_normal/'+list3[i])\n",
    "    img_gray=rgb2gray(img_old)\n",
    "    img_gray_resized=cv2.resize(img_gray,(300,180),interpolation=cv2.INTER_AREA)\n",
    "    lbp=feature.local_binary_pattern(img_gray_resized,method=\"uniform\",P=8,R=1)\n",
    "    numPoints=50\n",
    "    hist,_=np.histogram(lbp.ravel(),bins=np.arange(0,numPoints+3),range=(0,numPoints+2))\n",
    "    feat3=np.vstack((feat3,hist))\n",
    "feat3=feat3[1:,:]\n",
    "print('first class test shape :',feat3.shape)\n",
    "\n",
    "feat4=np.zeros((1,52)) \n",
    "for i in range(len(list4)):\n",
    "    img_old=plt.imread('C:/chest_x-ray/test_pneumonia/'+list4[i])\n",
    "    img_gray=rgb2gray(img_old)\n",
    "    img_gray_resized=cv2.resize(img_gray,(300,180),interpolation=cv2.INTER_AREA)\n",
    "    lbp=feature.local_binary_pattern(img_gray_resized,method=\"uniform\",P=8,R=1)\n",
    "    numPoints=50\n",
    "    hist,_=np.histogram(lbp.ravel(),bins=np.arange(0,numPoints+3),range=(0,numPoints+2))\n",
    "    feat4=np.vstack((feat4,hist))\n",
    "feat4=feat4[1:,:]\n",
    "print('second class test shape :',feat4.shape)"
   ]
  },
  {
   "cell_type": "code",
   "execution_count": 4,
   "metadata": {},
   "outputs": [
    {
     "name": "stdout",
     "output_type": "stream",
     "text": [
      "(2682, 52)    (2682,)    (624, 52)    (624,)\n"
     ]
    }
   ],
   "source": [
    "indices=np.random.randint(0,feat2.shape[0],1341)\n",
    "feat2=feat2[indices,:]\n",
    "X_train=np.vstack((feat1,feat2))\n",
    "X_test=np.vstack((feat3,feat4))\n",
    "y_train=np.hstack((np.zeros(1341),np.ones(1341)))\n",
    "y_test=np.hstack((np.zeros(234),np.ones(390)))\n",
    "print(X_train.shape,'  ',y_train.shape,'  ',X_test.shape,'  ',y_test.shape)"
   ]
  },
  {
   "cell_type": "code",
   "execution_count": 5,
   "metadata": {},
   "outputs": [],
   "source": [
    "arr1=np.random.permutation(2682)\n",
    "X_train=X_train[arr1,:]\n",
    "y_train=y_train[arr1]\n",
    "\n",
    "arr2=np.random.permutation(624)\n",
    "X_test=X_test[arr2,:]\n",
    "y_test=y_test[arr2]"
   ]
  },
  {
   "cell_type": "code",
   "execution_count": 6,
   "metadata": {},
   "outputs": [
    {
     "name": "stdout",
     "output_type": "stream",
     "text": [
      "(2682, 52)    (624, 52)\n"
     ]
    },
    {
     "name": "stderr",
     "output_type": "stream",
     "text": [
      "C:\\Anaconda\\lib\\site-packages\\sklearn\\feature_selection\\_univariate_selection.py:115: UserWarning: Features [10 11 12 13 14 15 16 17 18 19 20 21 22 23 24 25 26 27 28 29 30 31 32 33\n",
      " 34 35 36 37 38 39 40 41 42 43 44 45 46 47 48 49 50 51] are constant.\n",
      "  UserWarning)\n",
      "C:\\Anaconda\\lib\\site-packages\\sklearn\\feature_selection\\_univariate_selection.py:116: RuntimeWarning: invalid value encountered in true_divide\n",
      "  f = msb / msw\n",
      "C:\\Anaconda\\lib\\site-packages\\sklearn\\feature_selection\\_univariate_selection.py:115: UserWarning: Features [10 11 12 13 14 15 16 17 18 19 20 21 22 23 24 25 26 27 28 29 30 31 32 33\n",
      " 34 35 36 37 38 39 40 41 42 43 44 45 46 47 48 49 50 51] are constant.\n",
      "  UserWarning)\n",
      "C:\\Anaconda\\lib\\site-packages\\sklearn\\feature_selection\\_univariate_selection.py:116: RuntimeWarning: invalid value encountered in true_divide\n",
      "  f = msb / msw\n"
     ]
    }
   ],
   "source": [
    "X_train=SelectKBest(f_classif,k=\"all\").fit_transform(X_train,y_train)   \n",
    "X_test=SelectKBest(f_classif,k=\"all\").fit_transform(X_test,y_test)\n",
    "print(X_train.shape,'  ',X_test.shape)"
   ]
  },
  {
   "cell_type": "code",
   "execution_count": 7,
   "metadata": {},
   "outputs": [],
   "source": [
    "acc=[]\n",
    "for j in range((X_train.shape[1])):\n",
    "    clf=SVC(kernel='linear',random_state=0)\n",
    "    clf.fit(X_train[:,:(j+1)],y_train) \n",
    "    y_pred=clf.predict(X_test[:,:(j+1)])\n",
    "    acc.append(accuracy_score(y_test,y_pred))"
   ]
  },
  {
   "cell_type": "code",
   "execution_count": 8,
   "metadata": {},
   "outputs": [
    {
     "data": {
      "image/png": "[encoded data removed]",
      "text/plain": [
       "<Figure size 432x288 with 1 Axes>"
      ]
     },
     "metadata": {
      "needs_background": "light"
     },
     "output_type": "display_data"
    },
    {
     "name": "stdout",
     "output_type": "stream",
     "text": [
      "maximum accuracy obtained : 0.8541666666666666\n",
      "features taken for maximum accuracy obtained  : 5\n"
     ]
    }
   ],
   "source": [
    "plt.plot(acc,color='darkgreen')\n",
    "plt.xlabel('Feature---->')\n",
    "plt.ylabel('Accuracy---->')\n",
    "plt.legend(['accuracy'])\n",
    "plt.xticks(np.arange(0,52,1))\n",
    "plt.show()\n",
    "print('maximum accuracy obtained :',np.max(acc))\n",
    "print('features taken for maximum accuracy obtained  :',np.argmax(acc)+1)"
   ]
  }
 ],
 "metadata": {
  "kernelspec": {
   "display_name": "Python 3",
   "language": "python",
   "name": "python3"
  },
  "language_info": {
   "codemirror_mode": {
    "name": "ipython",
    "version": 3
   },
   "file_extension": ".py",
   "mimetype": "text/x-python",
   "name": "python",
   "nbconvert_exporter": "python",
   "pygments_lexer": "ipython3",
   "version": "3.7.3"
  }
 },
 "nbformat": 4,
 "nbformat_minor": 4
}
